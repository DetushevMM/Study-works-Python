{
 "cells": [
  {
   "cell_type": "markdown",
   "id": "46f4005b",
   "metadata": {},
   "source": [
    "# \"Поколение Python\": курс для продвинутых с пратформы Stepik.org\n",
    "# Часть 2\n",
    "\n",
    "https://stepik.org/course/68343/syllabus?auth=login\n",
    "\n",
    "Мои самостоятельные работы из курса."
   ]
  },
  {
   "cell_type": "markdown",
   "id": "e57d1c93",
   "metadata": {},
   "source": [
    "**Строковое представление 💬**\n",
    "\n",
    "Напишите программу, которая будет превращать натуральное число в строку, заменяя все цифры в числе на слова:\n",
    "\n",
    "- 0 на zero;\n",
    "- 1 на one;\n",
    "- 2 на two;\n",
    "- 3 на three;\n",
    "- 4 на four;\n",
    "- 5 на five;\n",
    "- 6 на six;\n",
    "- 7 на seven;\n",
    "- 8 на eight;\n",
    "- 9 на nine."
   ]
  },
  {
   "cell_type": "code",
   "execution_count": null,
   "id": "39a0c520",
   "metadata": {},
   "outputs": [
    {
     "name": "stdout",
     "output_type": "stream",
     "text": [
      "two three zero\n"
     ]
    }
   ],
   "source": [
    "digits = {\n",
    "          '0': 'zero',\n",
    "          '1': 'one',\n",
    "          '2': 'two',\n",
    "          '3': 'three',\n",
    "          '4': 'four',\n",
    "          '5': 'five',\n",
    "          '6': 'six',\n",
    "          '7': 'seven',\n",
    "          '8': 'eight',\n",
    "          '9': 'nine'\n",
    "         }\n",
    "\n",
    "print(*[digits[key] for key in input()])  # 230"
   ]
  },
  {
   "cell_type": "markdown",
   "id": "4be5643b",
   "metadata": {},
   "source": [
    "**Информация об учебных курсах 🎓**\n",
    "\n",
    "Напишите программу, которая по номеру курса выводит информацию о данном курсе."
   ]
  },
  {
   "cell_type": "code",
   "execution_count": null,
   "id": "4b9d9e85",
   "metadata": {},
   "outputs": [
    {
     "name": "stdout",
     "output_type": "stream",
     "text": [
      "CS101: 3004, Хайнс, 8:00\n"
     ]
    }
   ],
   "source": [
    "key = input() \n",
    "digits = { \n",
    "\"CS101\": \"3004, Хайнс, 8:00\", \n",
    "\"CS102\": \"4501, Альварадо, 9:00\", \n",
    "\"CS103\": \"6755, Рич, 10:00\", \"NT110\": \"1244, Берк, 11:00\", \n",
    "\"CM241\": \"1411, Ли, 13:00\" \n",
    "} \n",
    "\n",
    "print('{}: {}'.format(key, digits[key]))  # CS101"
   ]
  },
  {
   "cell_type": "markdown",
   "id": "d95f6db3",
   "metadata": {},
   "source": [
    "**Набор сообщений 📩**\n",
    "\n",
    "На мобильных кнопочных телефонах текстовые сообщения можно отправлять с помощью цифровой клавиатуры. Поскольку с каждой клавишей связано несколько букв, для большинства букв требуется несколько нажатий клавиш. При однократном нажатии цифры генерируется первый символ, указанный для этой клавиши. Нажатие цифры 2,3,4 или 5 раз генерирует второй, третий, четвертый или пятый символ клавиши."
   ]
  },
  {
   "cell_type": "code",
   "execution_count": 3,
   "id": "557f05d4",
   "metadata": {},
   "outputs": [
    {
     "name": "stdout",
     "output_type": "stream",
     "text": [
      "44330777724443111110444022226607777666555888330844444777707777666225553361"
     ]
    }
   ],
   "source": [
    "original_map = {\n",
    "    '1': '.,?!:',\n",
    "    '2': 'ABC',\n",
    "    '3': 'DEF',\n",
    "    '4': 'GHI',\n",
    "    '5': 'JKL',\n",
    "    '6': 'MNO',\n",
    "    '7': 'PQRS',\n",
    "    '8': 'TUV',\n",
    "    '9': 'WXYZ',\n",
    "    '0': ' ',\n",
    "}\n",
    "work_map = {letter: number * indx \n",
    "            for number, string in original_map.items() \n",
    "            for indx, letter in enumerate(string, 1)}\n",
    "\n",
    "input_string = input().upper()  # He said: \"I can solve this problem\".\n",
    "\n",
    "for letter in input_string:\n",
    "    print(work_map.get(letter, ''), end='')"
   ]
  },
  {
   "cell_type": "markdown",
   "id": "ab36353f",
   "metadata": {},
   "source": [
    "**Код Морзе**\n",
    "\n",
    "Код Морзе для представления цифр и букв использует тире и точки.\n",
    "\n",
    "Напишите программу для кодирования текстового сообщения в соответствии с кодом Морзе. Ваша программа должна игнорировать регистр символов исходного текстового сообщения. Ваша программа должна игнорировать любые символы, не перечисленные в таблице."
   ]
  },
  {
   "cell_type": "code",
   "execution_count": 4,
   "id": "2643766a",
   "metadata": {},
   "outputs": [
    {
     "name": "stdout",
     "output_type": "stream",
     "text": [
      ".. -. - . .-. ... - . .-.. .-.. .- .-.\n"
     ]
    }
   ],
   "source": [
    "letters = [c for c in 'ABCDEFGHIJKLMNOPQRSTUVWXYZ0123456789']\n",
    "morse = ['.-', '-...', '-.-.', '-..', '.', '..-.', '--.', '....', '..', '.---', '-.-', '.-..', '--', '-.', '---', '.--.', '--.-', '.-.', '...', '-', '..-', '...-', '.--', '-..-', '-.--', '--..', '-----', '.----', '..---', '...--', '....-', '.....', '-....', '--...', '---..', '----.']\n",
    "\n",
    "work_map = dict(zip(letters, morse))\n",
    "input_string = input().upper()  # Interstellar\n",
    "output_string = (work_map.get(letter) for letter in input_string if work_map.get(letter)) \n",
    "\n",
    "print(' '.join(output_string))"
   ]
  },
  {
   "cell_type": "markdown",
   "id": "7d38d267",
   "metadata": {},
   "source": [
    "**Самое редкое слово 🌶️**\n",
    "\n",
    "На вход программе подается строка текста. Напишите программу, которая выводит слово, которое встречается реже всего, без учета регистра. Если таких слов несколько, выведите то, которое меньше в лексикографическом порядке.\n",
    "\n",
    "На вход программе подается строка текста. Программа должна вывести слово (в нижнем регистре), встречаемое реже всего.\n",
    "\n",
    "Примечание 1. Программа не должна быть чувствительной к регистру, слова apple и Apple должна воспринимать как одинаковые.\n",
    "\n",
    "Примечание 2. Слово – последовательность букв. Кроме слов в тексте могут присутствовать пробелы и знаки препинания .,!?:;-, которые нужно игнорировать. Других символов в тексте нет."
   ]
  },
  {
   "cell_type": "code",
   "execution_count": 5,
   "id": "b3f2591e",
   "metadata": {},
   "outputs": [
    {
     "name": "stdout",
     "output_type": "stream",
     "text": [
      "sweet\n"
     ]
    }
   ],
   "source": [
    "dct = {}\n",
    "lst = [word.strip('.,!?:;-') for word in input().lower().split()]  # home sweet home\n",
    "for word in lst:\n",
    "    dct[word] = dct.get(word, 0) + 1\n",
    "lst = [(value, key) for key, value in dct.items()]\n",
    "lst.sort()\n",
    "print(lst[0][1])"
   ]
  },
  {
   "cell_type": "markdown",
   "id": "545bdbab",
   "metadata": {},
   "source": [
    "**Исправление дубликатов 🌶️**\n",
    "\n",
    "На вход программе подается строка, содержащая строки-идентификаторы. Напишите программу, которая исправляет их так, чтобы в результирующей строке не было дубликатов. Для этого необходимо прибавлять к повторяющимся идентификаторам постфикс _n, где n – количество раз, сколько такой идентификатор уже встречался."
   ]
  },
  {
   "cell_type": "code",
   "execution_count": 6,
   "id": "674adc69",
   "metadata": {},
   "outputs": [
    {
     "name": "stdout",
     "output_type": "stream",
     "text": [
      "a b c a_1 a_2 d c_1\n"
     ]
    }
   ],
   "source": [
    "d, l = {}, []\n",
    "\n",
    "for c in input().split():  # a b c a a d c\n",
    "    if c not in l:\n",
    "        l.append(c)\n",
    "    else:\n",
    "        d[c] = d.get(c, 0) + 1\n",
    "        l.append(c + '_' + str(d[c]))\n",
    "\n",
    "print(*l)"
   ]
  }
 ],
 "metadata": {
  "kernelspec": {
   "display_name": "Python 3",
   "language": "python",
   "name": "python3"
  },
  "language_info": {
   "codemirror_mode": {
    "name": "ipython",
    "version": 3
   },
   "file_extension": ".py",
   "mimetype": "text/x-python",
   "name": "python",
   "nbconvert_exporter": "python",
   "pygments_lexer": "ipython3",
   "version": "3.13.0"
  }
 },
 "nbformat": 4,
 "nbformat_minor": 5
}
